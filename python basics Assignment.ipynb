{
 "cells": [
  {
   "cell_type": "code",
   "execution_count": null,
   "id": "91324571-19de-473a-92a4-7a1c92cfdb50",
   "metadata": {},
   "outputs": [],
   "source": [
    "                                             #Subjective Questions"
   ]
  },
  {
   "cell_type": "code",
   "execution_count": 57,
   "id": "80808073-66fa-4870-a16f-8dc247e9eab5",
   "metadata": {},
   "outputs": [
    {
     "name": "stdout",
     "output_type": "stream",
     "text": [
      "\n"
     ]
    }
   ],
   "source": [
    "'''\n",
    "l. What is Python, and why is it popular?\n",
    "  ->python is a high-level, interpreted programming language known for its readability and simplicity. It's used to instruct a \n",
    "    computer by translating human-readable code to binary (machine-readable code).\n",
    "  ->it is most easy programming language compare to others because of its simple syntax.\n",
    "  ->it is popular due to his extensive inbuilt liberaries and framework like numpy,pandas,skict and much more \n",
    "\n",
    "2. What is an interpreter in Python?\n",
    "  ->An interpreter in Python is a program that reads and executes the Python code directly, translating it into machine \n",
    "    language on the fly. This is different from a compiler, which translates code into machine language before running it.\n",
    "\n",
    "3. What are pre-defined keywords in Python?\n",
    "  ->Pre-defined keywords is a specific word that is already defined which cannot be used as variable names, function \n",
    "    names, or any other identifier names.\n",
    "\n",
    "4. Can keywords be used as variable names?\n",
    "  ->No,it would create confusion and errors in the code if we use keyword as variable.\n",
    "\n",
    "5. What is mutability in Python?\n",
    "  ->Mutability means that an object can be changed after it is created. Lists, dictionaries, and sets are examples of mutable \n",
    "    objects in Python.\n",
    "\n",
    "6. Why are lists mutable, but tuples are immutable?\n",
    "  ->Lists are mutable because they allow for items to be added, removed, or changed, which is useful for dynamic data storage. \n",
    "    Tuples are immutable for scenarios where a fixed collection of items is needed, providing advantages such as faster access \n",
    "    and data integrity (e.g., use cases like storing coordinates or fixed configurations).\n",
    "\n",
    "7. What is the difference between\"==\" and \"is\" operators in Python?\n",
    "  ->The == operator checks if the values of two operands are equal.\n",
    "  ->The is operator checks if two operands refer to the same object in memory.\n",
    "\n",
    "8. What are logical operators in Python?\n",
    "  ->Logical operators in Python include and, or, and not, which are used to combine conditional statements.\n",
    "\n",
    "9. What is type casting in Python?\n",
    "  ->Type casting  is used to converting one data type into another like if we convert integer(int) to float value\n",
    "    then it will be float(5)\n",
    "\n",
    "10. What is the difference between implicit and explicit type casting?\n",
    "  ->Implicit type casting that is automatically converts one data type to another without instructions from the user.For \n",
    "     example, adding an integer to a float will result in a float.\n",
    "  ->The programmer manually converts one data type to another using functions like int(), float(), str(), etc.\n",
    "\n",
    "11.\tWhat is the purpose of conditional statements in Python?\n",
    "  ->The purpose of conditional statement is to check that user given condition is True or not. They help to execute a certain \n",
    "    block of code only if a specified condition is true.\n",
    "\n",
    "12.\tHow does the elif statement work?\n",
    "  ->It allows you to check multiple conditions in sequence, executing a block of code as soon as one of the conditions \n",
    "    evaluates to True. It's a way to handle multiple possible outcomes in your code, without resorting to nested if \n",
    "    statements.  \n",
    "\n",
    "13.\tWhat is the difference between for and while loops?\n",
    "  ->for loops are used for iterating over a sequence (like a list, tuple, dictionary, set, or string) with a definite \n",
    "    number of iterations.\n",
    "  ->while loops are used when the number of iterations is not known and depends on a condition being True.\n",
    "\n",
    "14.\tDescribe a scenario where a while loop is more suitable than a for loop.\n",
    "  ->A while loop is more suitable when you need to repeat an action until a specific condition is met, such as waiting for a \n",
    "    user input or continuously checking a sensor value in a program until it reaches a threshold.\n",
    "'''\n"
   ]
  },
  {
   "cell_type": "code",
   "execution_count": null,
   "id": "1387499f-f22c-495f-a53e-88e0ddd895d7",
   "metadata": {},
   "outputs": [],
   "source": [
    "                                      #Practical Questions"
   ]
  },
  {
   "cell_type": "code",
   "execution_count": null,
   "id": "9f052b8a-567d-4d87-b339-de6a7d8020a4",
   "metadata": {},
   "outputs": [],
   "source": [
    "#1. Write a Python program to print \"Hello, World!\"\n"
   ]
  },
  {
   "cell_type": "code",
   "execution_count": 5,
   "id": "b06ca003-e39e-4c2a-b72f-5afae1161519",
   "metadata": {},
   "outputs": [
    {
     "name": "stdout",
     "output_type": "stream",
     "text": [
      "Helloworld\n"
     ]
    }
   ],
   "source": [
    "print(\"Helloworld\")"
   ]
  },
  {
   "cell_type": "code",
   "execution_count": null,
   "id": "f7088b70-eec2-4971-b3bf-38255781580d",
   "metadata": {},
   "outputs": [],
   "source": [
    "#2. Write a Python program that displays your name and age.\n"
   ]
  },
  {
   "cell_type": "code",
   "execution_count": 21,
   "id": "34d288d9-eaba-4ea3-8a11-f236172eec14",
   "metadata": {},
   "outputs": [
    {
     "name": "stdin",
     "output_type": "stream",
     "text": [
      "write your name sudhanshu\n",
      "enter your age 21\n"
     ]
    },
    {
     "name": "stdout",
     "output_type": "stream",
     "text": [
      "name- sudhanshu\n",
      "age- 21\n"
     ]
    }
   ],
   "source": [
    "name=input(\"write your name\")\n",
    "age=int(input(\"enter your age\"))\n",
    "print(\"name-\",name)\n",
    "print(\"age-\",age)"
   ]
  },
  {
   "cell_type": "code",
   "execution_count": null,
   "id": "485c9def-4ff0-4488-9a07-78061513debc",
   "metadata": {},
   "outputs": [],
   "source": [
    "#3.\tWrite code to print all the pre-defined keywords in Python using the keyword library.\n"
   ]
  },
  {
   "cell_type": "code",
   "execution_count": 17,
   "id": "88dec091-3161-42f7-a3ab-02458c8510a2",
   "metadata": {},
   "outputs": [
    {
     "name": "stdout",
     "output_type": "stream",
     "text": [
      "\n",
      "Here is a list of the Python keywords.  Enter any keyword to get more help.\n",
      "\n",
      "False               class               from                or\n",
      "None                continue            global              pass\n",
      "True                def                 if                  raise\n",
      "and                 del                 import              return\n",
      "as                  elif                in                  try\n",
      "assert              else                is                  while\n",
      "async               except              lambda              with\n",
      "await               finally             nonlocal            yield\n",
      "break               for                 not                 \n",
      "\n"
     ]
    }
   ],
   "source": [
    "help('keywords')"
   ]
  },
  {
   "cell_type": "code",
   "execution_count": null,
   "id": "6eaa0297-b70a-4f7e-89fd-e5f6ee791a1d",
   "metadata": {},
   "outputs": [],
   "source": [
    "#4.\tWrite a program that checks if a given word is a Python keyword.\n"
   ]
  },
  {
   "cell_type": "code",
   "execution_count": 31,
   "id": "7d8a99f5-7d04-49d6-89cd-b049da50be8d",
   "metadata": {},
   "outputs": [
    {
     "name": "stdin",
     "output_type": "stream",
     "text": [
      "Enter the word for checking keyword for\n"
     ]
    },
    {
     "name": "stdout",
     "output_type": "stream",
     "text": [
      "your word is keyword\n"
     ]
    }
   ],
   "source": [
    "import keyword\n",
    "word=input(\"Enter the word for checking keyword\")\n",
    "if keyword.iskeyword(word):\n",
    "    print(\"your word is keyword\")\n",
    "else:\n",
    "    print(\"Not a keyword\")"
   ]
  },
  {
   "cell_type": "code",
   "execution_count": null,
   "id": "7407764e-08c7-443e-b93e-ee06beb56b01",
   "metadata": {},
   "outputs": [],
   "source": [
    "#5.\tCreate a list and tuple in Python, and demonstrate how attempting to change an element works differently for each.\n"
   ]
  },
  {
   "cell_type": "code",
   "execution_count": 49,
   "id": "bfc10dba-06f3-4731-b83d-d6b720deeb19",
   "metadata": {},
   "outputs": [
    {
     "name": "stdout",
     "output_type": "stream",
     "text": [
      "['sudhanshu', 10, 4.5, True]\n",
      "['hello world', 10, 4.5, True]\n",
      "('kumar', 78, 9.1, False)\n",
      "error 'tuple' object does not support item assignment\n"
     ]
    }
   ],
   "source": [
    "list1=[\"sudhanshu\",10,4.5,True]\n",
    "tuple1=(\"kumar\",78,9.1,False)\n",
    "\n",
    "#Try to modification in list\n",
    "print(list1)\n",
    "list1[0]=\"hello world\"\n",
    "print(list1)\n",
    "\n",
    "#Try to modification in tuple\n",
    "print(tuple1)\n",
    "try:\n",
    "    tuple1[0]=\"Singh\"\n",
    "except TypeError as e:\n",
    "    print(\"error\",e)\n"
   ]
  },
  {
   "cell_type": "code",
   "execution_count": null,
   "id": "8bd64980-a5d7-44cc-910e-8e1b759d85a3",
   "metadata": {},
   "outputs": [],
   "source": [
    "#6.\tWrite a function to demonstrate the behavior of mutable and immutable arguments.\n"
   ]
  },
  {
   "cell_type": "code",
   "execution_count": 33,
   "id": "7a9b260e-0ca5-414c-97d4-64dff57ce515",
   "metadata": {},
   "outputs": [
    {
     "name": "stdout",
     "output_type": "stream",
     "text": [
      "Before function call (immutable): 10\n",
      "Inside function (immutable): 11\n",
      "After function call (immutable): 10\n",
      "\n",
      "Before function call (mutable): [1, 2, 3]\n",
      "Inside function (mutable): [1, 2, 3, 100]\n",
      "After function call (mutable): [1, 2, 3, 100]\n"
     ]
    }
   ],
   "source": [
    "def modify_immutable(num):\n",
    "    num += 1 \n",
    "    print(f'Inside function (immutable): {num}')\n",
    "def modify_mutable(lst):\n",
    "    lst.append(100) \n",
    "    print(f'Inside function (mutable): {lst}') \n",
    "    \n",
    "x = 10 \n",
    "print(f'Before function call (immutable): {x}') \n",
    "modify_immutable(x) \n",
    "print(f'After function call (immutable): {x}\\n')\n",
    "\n",
    "y = [1, 2, 3]\n",
    "print(f'Before function call (mutable): {y}')\n",
    "modify_mutable(y)\n",
    "print(f'After function call (mutable): {y}')"
   ]
  },
  {
   "cell_type": "code",
   "execution_count": null,
   "id": "c69c43b6-52ed-4d24-9b99-9c81f2204864",
   "metadata": {},
   "outputs": [],
   "source": [
    "#7.\tWrite a function to demonstrate the behavior of mutable and immutable arguments.\n"
   ]
  },
  {
   "cell_type": "code",
   "execution_count": 35,
   "id": "9e5e8b0b-a6fe-40e8-9f85-fa7a8f94587a",
   "metadata": {},
   "outputs": [
    {
     "name": "stdout",
     "output_type": "stream",
     "text": [
      "Before function call (immutable): 10\n",
      "Inside function (immutable): 11\n",
      "After function call (immutable): 10\n",
      "\n",
      "Before function call (mutable): [1, 2, 3]\n",
      "Inside function (mutable): [1, 2, 3, 100]\n",
      "After function call (mutable): [1, 2, 3, 100]\n"
     ]
    }
   ],
   "source": [
    "def modify_immutable(num):\n",
    "    num += 1 \n",
    "    print(f'Inside function (immutable): {num}')\n",
    "def modify_mutable(lst):\n",
    "    lst.append(100) \n",
    "    print(f'Inside function (mutable): {lst}') \n",
    "    \n",
    "x = 10 \n",
    "print(f'Before function call (immutable): {x}') \n",
    "modify_immutable(x) \n",
    "print(f'After function call (immutable): {x}\\n')\n",
    "\n",
    "y = [1, 2, 3]\n",
    "print(f'Before function call (mutable): {y}')\n",
    "modify_mutable(y)\n",
    "print(f'After function call (mutable): {y}')"
   ]
  },
  {
   "cell_type": "code",
   "execution_count": null,
   "id": "9042e247-e559-4303-bb08-70542cfb0061",
   "metadata": {},
   "outputs": [],
   "source": [
    "#8.\tWrite a program to demonstrate the use of logical operators.\n"
   ]
  },
  {
   "cell_type": "code",
   "execution_count": 17,
   "id": "987e6b8a-0f38-407c-bdf4-634df5c9946b",
   "metadata": {},
   "outputs": [
    {
     "name": "stdout",
     "output_type": "stream",
     "text": [
      "Error\n"
     ]
    },
    {
     "data": {
      "text/plain": [
       "7"
      ]
     },
     "execution_count": 17,
     "metadata": {},
     "output_type": "execute_result"
    }
   ],
   "source": [
    "a,b=4,7\n",
    "if a>5 and b<10:\n",
    "    print(\"a is greater than 5 and b is less than 10\")\n",
    "else:\n",
    "    print(\"Error\")\n"
   ]
  },
  {
   "cell_type": "code",
   "execution_count": null,
   "id": "227fafe7-1a5e-4a55-b90e-1b31a7fdb963",
   "metadata": {},
   "outputs": [],
   "source": [
    "#9.\tWrite a Python program to convert user input from string to integer, float, and boolean types.\n"
   ]
  },
  {
   "cell_type": "code",
   "execution_count": 29,
   "id": "277d1814-377e-4008-9304-0e76b23e4248",
   "metadata": {},
   "outputs": [
    {
     "name": "stdin",
     "output_type": "stream",
     "text": [
      "write integer value here 5\n",
      "write float value here 4\n",
      "write boolean value here 5\n"
     ]
    },
    {
     "name": "stdout",
     "output_type": "stream",
     "text": [
      "Integer: 5, Float: 4.0, Boolean: True\n"
     ]
    }
   ],
   "source": [
    "intg=input(\"write integer value here\")\n",
    "fl=input(\"write float value here\")\n",
    "bol=input(\"write boolean value here\")\n",
    "\n",
    "int_value = int(intg) \n",
    "float_value = float(fl) \n",
    "bool_value = bool(bol)\n",
    "\n",
    "print(f\"Integer: {int_value}, Float: {float_value}, Boolean: {bool_value}\")\n",
    "      "
   ]
  },
  {
   "cell_type": "code",
   "execution_count": null,
   "id": "9c862de9-355c-42fa-9515-29b796302216",
   "metadata": {},
   "outputs": [],
   "source": [
    "#10. Write code to demonstrate type casting with list elements.\n"
   ]
  },
  {
   "cell_type": "code",
   "execution_count": 7,
   "id": "1e2ea051-4b17-4d46-8493-68d6c04e9a2d",
   "metadata": {},
   "outputs": [
    {
     "data": {
      "text/plain": [
       "4.0"
      ]
     },
     "execution_count": 7,
     "metadata": {},
     "output_type": "execute_result"
    }
   ],
   "source": [
    "list2=[\"sudhanshu\",4,True]\n",
    "float(list2[1])"
   ]
  },
  {
   "cell_type": "code",
   "execution_count": null,
   "id": "89763f0f-11ad-4070-aa14-0fa05bad0f7b",
   "metadata": {},
   "outputs": [],
   "source": [
    "#11. Write a program that checks if a number is positive, negative, or zero.\n"
   ]
  },
  {
   "cell_type": "code",
   "execution_count": 25,
   "id": "180d603f-d972-4a6f-84a6-62a6ec72037e",
   "metadata": {},
   "outputs": [
    {
     "name": "stdin",
     "output_type": "stream",
     "text": [
      "write the number 2\n"
     ]
    },
    {
     "name": "stdout",
     "output_type": "stream",
     "text": [
      "number is positive\n"
     ]
    }
   ],
   "source": [
    "num=int(input(\"write the number\"))\n",
    "if num<0:\n",
    "    print(\"number is negative\")\n",
    "elif num==0:\n",
    "    print(\"number is 0\")\n",
    "else:\n",
    "    print(\"number is positive\")"
   ]
  },
  {
   "cell_type": "code",
   "execution_count": null,
   "id": "1c57d075-ef0b-4b11-873a-c91d815a5cf3",
   "metadata": {},
   "outputs": [],
   "source": [
    "#12. Write a for loop to print numbers from l to 10.\n"
   ]
  },
  {
   "cell_type": "code",
   "execution_count": 33,
   "id": "5a21e1e1-976a-4724-b92c-723e7e8066ea",
   "metadata": {},
   "outputs": [
    {
     "name": "stdout",
     "output_type": "stream",
     "text": [
      "1\n",
      "2\n",
      "3\n",
      "4\n",
      "5\n",
      "6\n",
      "7\n",
      "8\n",
      "9\n",
      "10\n"
     ]
    }
   ],
   "source": [
    "for i in range(1,11):\n",
    "    print(i)"
   ]
  },
  {
   "cell_type": "code",
   "execution_count": null,
   "id": "5369421c-cc09-41fb-9cc0-c357d1dbe8cb",
   "metadata": {},
   "outputs": [],
   "source": [
    "#13. Write a Python program to find the sum of all even numbers between l and 50.\n"
   ]
  },
  {
   "cell_type": "code",
   "execution_count": 31,
   "id": "8f5bef1b-7f81-436b-8c1c-533789399495",
   "metadata": {},
   "outputs": [
    {
     "name": "stdout",
     "output_type": "stream",
     "text": [
      "650\n"
     ]
    }
   ],
   "source": [
    "sum=0\n",
    "for i in range(1,51):\n",
    "    if i%2==0:\n",
    "        sum=sum+i\n",
    "        \n",
    "print(sum)"
   ]
  },
  {
   "cell_type": "code",
   "execution_count": null,
   "id": "5a9ee5f6-f81b-4813-9599-42e708068a14",
   "metadata": {},
   "outputs": [],
   "source": [
    "#14. Write a program to reverse a string using a while loop.\n"
   ]
  },
  {
   "cell_type": "code",
   "execution_count": 57,
   "id": "755e62cd-d52a-40da-b327-0dde7be03dda",
   "metadata": {},
   "outputs": [
    {
     "name": "stdout",
     "output_type": "stream",
     "text": [
      "uhsnahdus\n"
     ]
    }
   ],
   "source": [
    "str1=\"sudhanshu\"\n",
    "strrev=\"\"\n",
    "length=len(str1)-1\n",
    "while length>=0:\n",
    "    strrev+=str1[length]\n",
    "    length-=1\n",
    "print(strrev)    "
   ]
  },
  {
   "cell_type": "code",
   "execution_count": null,
   "id": "f2bb6ac2-27ec-4421-8a68-bae31d997ec1",
   "metadata": {},
   "outputs": [],
   "source": [
    "#15. Write a Python program to calculate the factorial of a number provided by the user using a while loop.\n"
   ]
  },
  {
   "cell_type": "code",
   "execution_count": 9,
   "id": "c8d46ed0-ea2b-4c69-aab2-174de77611de",
   "metadata": {},
   "outputs": [
    {
     "name": "stdin",
     "output_type": "stream",
     "text": [
      "Enter the number for factorial 14\n"
     ]
    },
    {
     "name": "stdout",
     "output_type": "stream",
     "text": [
      "87178291200\n"
     ]
    }
   ],
   "source": [
    "user=int(input(\"Enter the number for factorial\"))\n",
    "i=1\n",
    "while user>=1:\n",
    "    i=i*user\n",
    "    user-=1\n",
    "print(i)    "
   ]
  },
  {
   "cell_type": "code",
   "execution_count": null,
   "id": "2d0ae6b8-621a-4232-a3db-95d58c8c7fae",
   "metadata": {},
   "outputs": [],
   "source": []
  }
 ],
 "metadata": {
  "kernelspec": {
   "display_name": "Python 3 (ipykernel)",
   "language": "python",
   "name": "python3"
  },
  "language_info": {
   "codemirror_mode": {
    "name": "ipython",
    "version": 3
   },
   "file_extension": ".py",
   "mimetype": "text/x-python",
   "name": "python",
   "nbconvert_exporter": "python",
   "pygments_lexer": "ipython3",
   "version": "3.12.7"
  }
 },
 "nbformat": 4,
 "nbformat_minor": 5
}
